{
 "cells": [
  {
   "cell_type": "markdown",
   "metadata": {},
   "source": [
    "# Classification Analysis for ECG Time-Series\n",
    "\n",
    "> Copyright 2019 Dave Fernandes. All Rights Reserved.\n",
    "> \n",
    "> Licensed under the Apache License, Version 2.0 (the \"License\");\n",
    "> you may not use this file except in compliance with the License.\n",
    "> You may obtain a copy of the License at\n",
    ">\n",
    "> http://www.apache.org/licenses/LICENSE-2.0\n",
    ">  \n",
    "> Unless required by applicable law or agreed to in writing, software\n",
    "> distributed under the License is distributed on an \"AS IS\" BASIS,\n",
    "> WITHOUT WARRANTIES OR CONDITIONS OF ANY KIND, either express or implied.\n",
    "> See the License for the specific language governing permissions and\n",
    "> limitations under the License."
   ]
  },
  {
   "cell_type": "markdown",
   "metadata": {},
   "source": [
    "## Overview\n",
    "This notebook classifies time-series for segmented heartbeats from ECG lead II recordings. Either of two models (CNN or RNN) can be selected from training and evaluation.\n",
    "- Data for this analysis should be prepared using the `PreprocessECG.ipynb` notebook from this project.\n",
    "- Original data is from: https://www.kaggle.com/shayanfazeli/heartbeat"
   ]
  },
  {
   "cell_type": "code",
   "execution_count": 2,
   "metadata": {},
   "outputs": [],
   "source": [
    "import numpy as np\n",
    "import tensorflow as tf\n",
    "import tensorflow.keras.layers as keras\n",
    "import matplotlib.pyplot as plt\n",
    "import pickle\n",
    "\n",
    "tf.enable_eager_execution()\n",
    "\n",
    "TRAIN_SET = './Data/train_set.pickle'\n",
    "TEST_SET = './Data/test_set.pickle'\n",
    "\n",
    "with open(TEST_SET, 'rb') as file:\n",
    "    test_set = pickle.load(file)\n",
    "    x_test = test_set['x']\n",
    "    y_test = test_set['y']\n",
    "\n",
    "with open(TRAIN_SET, 'rb') as file:\n",
    "    train_set = pickle.load(file)\n",
    "    x_train = train_set['x']\n",
    "    y_train = train_set['y']\n",
    "    \n",
    "def parameter_count():\n",
    "    total = 0\n",
    "    for v in tf.trainable_variables():\n",
    "        v_elements = 1\n",
    "        for dim in v.get_shape():\n",
    "            v_elements *= dim.value\n",
    "\n",
    "        total += v_elements\n",
    "    return total"
   ]
  },
  {
   "cell_type": "markdown",
   "metadata": {},
   "source": [
    "### Input functions for Estimator"
   ]
  },
  {
   "cell_type": "code",
   "execution_count": 3,
   "metadata": {},
   "outputs": [],
   "source": [
    "def combined_dataset(features, labels):\n",
    "    assert features.shape[0] == labels.shape[0]\n",
    "    dataset = tf.data.Dataset.from_tensor_slices(({'time_series': features}, labels))\n",
    "    return dataset\n",
    "\n",
    "def class_for_element(features, labels):\n",
    "    return labels\n",
    "\n",
    "# For training\n",
    "def train_input_fn():\n",
    "    dataset = combined_dataset(x_train, y_train)\n",
    "    return dataset.repeat().shuffle(500000).batch(200).prefetch(1)\n",
    "\n",
    "# For evaluation and metrics\n",
    "def eval_input_fn():\n",
    "    dataset = combined_dataset(x_test, y_test)\n",
    "    return dataset.batch(1000).prefetch(1)"
   ]
  },
  {
   "cell_type": "markdown",
   "metadata": {},
   "source": [
    "### Define the models\n",
    "#### Convolutional Model\n",
    "* The convolutional model is taken from: https://arxiv.org/pdf/1805.00794.pdf\n",
    "\n",
    "Model consists of:\n",
    "* An initial 1-D convolutional layer\n",
    "* 5 repeated residual blocks (`same` padding)\n",
    "* A fully-connected layer\n",
    "* A linear layer with softmax output"
   ]
  },
  {
   "cell_type": "code",
   "execution_count": 4,
   "metadata": {},
   "outputs": [],
   "source": [
    "CNN_MODEL_DIR = './Models/CNN-Paper'\n",
    "\n",
    "def conv_unit(unit, input_layer):\n",
    "    s = '_' + str(unit)\n",
    "    layer = keras.Conv1D(name='Conv1' + s, filters=32, kernel_size=5, strides=1, padding='same', activation='relu')(input_layer)\n",
    "    layer = keras.Conv1D(name='Conv2' + s, filters=32, kernel_size=5, strides=1, padding='same', activation=None)(layer )\n",
    "    layer = keras.Add(name='ResidualSum' + s)([layer, input_layer])\n",
    "    layer = keras.Activation(\"relu\", name='Act' + s)(layer)\n",
    "    layer = keras.MaxPooling1D(name='MaxPool' + s, pool_size=5, strides=2)(layer)\n",
    "    return layer\n",
    "\n",
    "def cnn_model(input_layer, mode, params):\n",
    "    current_layer = keras.Conv1D(filters=32, kernel_size=5, strides=1)(input_layer)\n",
    "\n",
    "    for i in range(5):\n",
    "        current_layer = conv_unit(i + 1, current_layer)\n",
    "\n",
    "    current_layer = keras.Flatten()(current_layer)\n",
    "    current_layer = keras.Dense(32, name='FC1', activation='relu')(current_layer)\n",
    "    logits = keras.Dense(5, name='Output')(current_layer)\n",
    "    \n",
    "    print('Parameter count:', parameter_count())\n",
    "    return logits"
   ]
  },
  {
   "cell_type": "markdown",
   "metadata": {},
   "source": [
    "#### Recurrent Model\n",
    "\n",
    "Model consists of:\n",
    "* Two stacked bidirectional GRU layers\n",
    "* Two fully-connected layers\n",
    "* A linear layer with softmax output\n",
    "\n",
    "Since the model operates on segmented heartbeat samples, we can use a bidirectional RNN because the whole segment is available for processing at one time. It is also a more \\\"fair\\\" comparison with the CNN."
   ]
  },
  {
   "cell_type": "code",
   "execution_count": 5,
   "metadata": {},
   "outputs": [],
   "source": [
    "RNN_MODEL_DIR = './Models/RNN'\n",
    "RNN_OUTPUT_UNITS = [64, 128]\n",
    "\n",
    "def rnn_model(input_layer, mode, params):\n",
    "    current_layer = tf.keras.layers.Masking(mask_value=0., input_shape=(187, 1), name='Masked')(input_layer)\n",
    "    \n",
    "    for i, size in enumerate(RNN_OUTPUT_UNITS):\n",
    "        notLast = i + 1 < len(RNN_OUTPUT_UNITS)\n",
    "        layer = tf.keras.layers.GRU(size, return_sequences=notLast, dropout=0.2, name = 'GRU' + str(i+1))\n",
    "        current_layer = keras.Bidirectional(layer, name = 'BiRNN' + str(i+1))(current_layer)\n",
    "\n",
    "    current_layer = keras.Dense(64, name='Dense1', activation='relu')(current_layer)\n",
    "    current_layer = keras.Dense(16, name='Dense2', activation='relu')(current_layer)\n",
    "    logits = keras.Dense(5, name='Output', activation='relu')(current_layer)\n",
    "    \n",
    "    print('Parameter count:', parameter_count())\n",
    "    return logits"
   ]
  },
  {
   "cell_type": "markdown",
   "metadata": {},
   "source": [
    "### Estimator setup"
   ]
  },
  {
   "cell_type": "code",
   "execution_count": 6,
   "metadata": {},
   "outputs": [],
   "source": [
    "# Initial learning rate\n",
    "INITIAL_LEARNING_RATE = 0.001\n",
    "\n",
    "# Learning rate decay per LR_DECAY_STEPS steps (1.0 = no decay)\n",
    "LR_DECAY_RATE = 0.5\n",
    "\n",
    "# Number of steps for LR to decay by LR_DECAY_RATE\n",
    "LR_DECAY_STEPS = 4000\n",
    "\n",
    "# Threshold for gradient clipping\n",
    "GRADIENT_NORM_THRESH = 10.0\n",
    "\n",
    "# Select model to train\n",
    "MODEL_DIR = CNN_MODEL_DIR\n",
    "MODEL_FN = cnn_model\n",
    "\n",
    "def classifier_fn(features, labels, mode, params):\n",
    "    is_training = mode == tf.estimator.ModeKeys.TRAIN\n",
    "    input_layer = tf.feature_column.input_layer(features, params['feature_columns'])\n",
    "    input_layer = tf.expand_dims(input_layer, -1)\n",
    "\n",
    "    logits = MODEL_FN(input_layer, mode, params)\n",
    "\n",
    "    # For prediction, exit here\n",
    "    predicted_classes = tf.argmax(logits, 1)\n",
    "    if mode == tf.estimator.ModeKeys.PREDICT:\n",
    "        predictions = {\n",
    "            'class_ids': predicted_classes[:, tf.newaxis],\n",
    "            'probabilities': tf.nn.softmax(logits),\n",
    "            'logits': logits,\n",
    "        }\n",
    "        return tf.estimator.EstimatorSpec(mode, predictions=predictions)\n",
    "\n",
    "    # For training and evaluation, compute the loss (MSE)\n",
    "    loss = tf.losses.sparse_softmax_cross_entropy(labels=labels, logits=logits)\n",
    "\n",
    "    accuracy = tf.metrics.accuracy(labels=labels, predictions=predicted_classes, name='acc_op')\n",
    "    metrics = {'accuracy': accuracy}\n",
    "    tf.summary.scalar('accuracy', accuracy[1])\n",
    "\n",
    "    if mode == tf.estimator.ModeKeys.EVAL:\n",
    "        return tf.estimator.EstimatorSpec(mode, loss=loss, eval_metric_ops=metrics)\n",
    "\n",
    "    # For training...\n",
    "    global_step = tf.train.get_global_step()\n",
    "    learning_rate = tf.train.exponential_decay(INITIAL_LEARNING_RATE, global_step, LR_DECAY_STEPS, LR_DECAY_RATE)\n",
    "\n",
    "    optimizer = tf.train.AdamOptimizer(learning_rate=learning_rate)\n",
    "    #optimizer = tf.contrib.estimator.clip_gradients_by_norm(optimizer, GRADIENT_NORM_THRESH)\n",
    "    \n",
    "    train_op = optimizer.minimize(loss, global_step=tf.train.get_global_step())\n",
    "    return tf.estimator.EstimatorSpec(mode, loss=loss, train_op=train_op)"
   ]
  },
  {
   "cell_type": "markdown",
   "metadata": {},
   "source": [
    "### Train model"
   ]
  },
  {
   "cell_type": "code",
   "execution_count": 7,
   "metadata": {},
   "outputs": [
    {
     "name": "stdout",
     "output_type": "stream",
     "text": [
      "INFO:tensorflow:Using default config.\n",
      "INFO:tensorflow:Using config: {'_model_dir': './Models/CNN-Paper', '_tf_random_seed': None, '_save_summary_steps': 100, '_save_checkpoints_steps': None, '_save_checkpoints_secs': 600, '_session_config': allow_soft_placement: true\n",
      "graph_options {\n",
      "  rewrite_options {\n",
      "    meta_optimizer_iterations: ONE\n",
      "  }\n",
      "}\n",
      ", '_keep_checkpoint_max': 5, '_keep_checkpoint_every_n_hours': 10000, '_log_step_count_steps': 100, '_train_distribute': None, '_device_fn': None, '_protocol': None, '_eval_distribute': None, '_experimental_distribute': None, '_experimental_max_worker_delay_secs': None, '_service': None, '_cluster_spec': <tensorflow.python.training.server_lib.ClusterSpec object at 0x0000019BAB8811C8>, '_task_type': 'worker', '_task_id': 0, '_global_id_in_cluster': 0, '_master': '', '_evaluation_master': '', '_is_chief': True, '_num_ps_replicas': 0, '_num_worker_replicas': 1}\n",
      "WARNING:tensorflow:From D:\\Anaconda3\\lib\\site-packages\\tensorflow\\python\\training\\training_util.py:236: Variable.initialized_value (from tensorflow.python.ops.variables) is deprecated and will be removed in a future version.\n",
      "Instructions for updating:\n",
      "Use Variable.read_value. Variables in 2.X are initialized automatically both in eager and graph (inside tf.defun) contexts.\n",
      "INFO:tensorflow:Calling model_fn.\n",
      "WARNING:tensorflow:From D:\\Anaconda3\\lib\\site-packages\\tensorflow\\python\\feature_column\\feature_column.py:205: NumericColumn._get_dense_tensor (from tensorflow.python.feature_column.feature_column_v2) is deprecated and will be removed in a future version.\n",
      "Instructions for updating:\n",
      "The old _FeatureColumn APIs are being deprecated. Please use the new FeatureColumn APIs instead.\n",
      "WARNING:tensorflow:From D:\\Anaconda3\\lib\\site-packages\\tensorflow\\python\\feature_column\\feature_column.py:2115: NumericColumn._transform_feature (from tensorflow.python.feature_column.feature_column_v2) is deprecated and will be removed in a future version.\n",
      "Instructions for updating:\n",
      "The old _FeatureColumn APIs are being deprecated. Please use the new FeatureColumn APIs instead.\n",
      "WARNING:tensorflow:From D:\\Anaconda3\\lib\\site-packages\\tensorflow\\python\\feature_column\\feature_column.py:206: NumericColumn._variable_shape (from tensorflow.python.feature_column.feature_column_v2) is deprecated and will be removed in a future version.\n",
      "Instructions for updating:\n",
      "The old _FeatureColumn APIs are being deprecated. Please use the new FeatureColumn APIs instead.\n",
      "WARNING:tensorflow:From D:\\Anaconda3\\lib\\site-packages\\tensorflow\\python\\ops\\init_ops.py:1251: calling VarianceScaling.__init__ (from tensorflow.python.ops.init_ops) with dtype is deprecated and will be removed in a future version.\n",
      "Instructions for updating:\n",
      "Call initializer instance with the dtype argument instead of passing it to the constructor\n",
      "Parameter count: 53957\n",
      "WARNING:tensorflow:From D:\\Anaconda3\\lib\\site-packages\\tensorflow\\python\\ops\\losses\\losses_impl.py:121: add_dispatch_support.<locals>.wrapper (from tensorflow.python.ops.array_ops) is deprecated and will be removed in a future version.\n",
      "Instructions for updating:\n",
      "Use tf.where in 2.0, which has the same broadcast rule as np.where\n",
      "INFO:tensorflow:Done calling model_fn.\n",
      "INFO:tensorflow:Create CheckpointSaverHook.\n",
      "INFO:tensorflow:Graph was finalized.\n",
      "INFO:tensorflow:Running local_init_op.\n",
      "INFO:tensorflow:Done running local_init_op.\n",
      "INFO:tensorflow:Saving checkpoints for 0 into ./Models/CNN-Paper\\model.ckpt.\n",
      "INFO:tensorflow:loss = 2.0419638, step = 1\n",
      "INFO:tensorflow:global_step/sec: 8.31713\n",
      "INFO:tensorflow:loss = 0.54414064, step = 101 (12.004 sec)\n",
      "INFO:tensorflow:global_step/sec: 9.12359\n",
      "INFO:tensorflow:loss = 0.4491478, step = 201 (10.957 sec)\n",
      "INFO:tensorflow:global_step/sec: 9.09776\n",
      "INFO:tensorflow:loss = 0.39844772, step = 301 (10.993 sec)\n",
      "INFO:tensorflow:global_step/sec: 9.1286\n",
      "INFO:tensorflow:loss = 0.3874575, step = 401 (10.954 sec)\n",
      "INFO:tensorflow:global_step/sec: 9.12413\n",
      "INFO:tensorflow:loss = 0.24480943, step = 501 (10.960 sec)\n",
      "INFO:tensorflow:global_step/sec: 9.15939\n",
      "INFO:tensorflow:loss = 0.23324531, step = 601 (10.918 sec)\n",
      "INFO:tensorflow:global_step/sec: 9.17502\n",
      "INFO:tensorflow:loss = 0.24791901, step = 701 (10.903 sec)\n",
      "INFO:tensorflow:global_step/sec: 9.00575\n",
      "INFO:tensorflow:loss = 0.20449787, step = 801 (11.100 sec)\n",
      "INFO:tensorflow:global_step/sec: 9.07045\n",
      "INFO:tensorflow:loss = 0.1512671, step = 901 (11.025 sec)\n",
      "INFO:tensorflow:global_step/sec: 9.22997\n",
      "INFO:tensorflow:loss = 0.18126522, step = 1001 (10.835 sec)\n",
      "INFO:tensorflow:global_step/sec: 9.13243\n",
      "INFO:tensorflow:loss = 0.14536068, step = 1101 (10.949 sec)\n",
      "INFO:tensorflow:global_step/sec: 9.14532\n",
      "INFO:tensorflow:loss = 0.07605095, step = 1201 (10.935 sec)\n",
      "INFO:tensorflow:global_step/sec: 9.15127\n",
      "INFO:tensorflow:loss = 0.13176988, step = 1301 (10.927 sec)\n",
      "INFO:tensorflow:global_step/sec: 9.19408\n",
      "INFO:tensorflow:loss = 0.14822873, step = 1401 (10.877 sec)\n",
      "INFO:tensorflow:global_step/sec: 9.3092\n",
      "INFO:tensorflow:loss = 0.080246955, step = 1501 (10.742 sec)\n",
      "INFO:tensorflow:global_step/sec: 9.23556\n",
      "INFO:tensorflow:loss = 0.12578377, step = 1601 (10.828 sec)\n",
      "INFO:tensorflow:global_step/sec: 9.28015\n",
      "INFO:tensorflow:loss = 0.14034931, step = 1701 (10.776 sec)\n",
      "INFO:tensorflow:global_step/sec: 9.30301\n",
      "INFO:tensorflow:loss = 0.10448398, step = 1801 (10.750 sec)\n",
      "INFO:tensorflow:global_step/sec: 9.15966\n",
      "INFO:tensorflow:loss = 0.056854736, step = 1901 (10.918 sec)\n",
      "INFO:tensorflow:global_step/sec: 9.27459\n",
      "INFO:tensorflow:loss = 0.069285505, step = 2001 (10.780 sec)\n",
      "INFO:tensorflow:global_step/sec: 9.29443\n",
      "INFO:tensorflow:loss = 0.08870714, step = 2101 (10.760 sec)\n",
      "INFO:tensorflow:global_step/sec: 8.47651\n",
      "INFO:tensorflow:loss = 0.04673505, step = 2201 (11.796 sec)\n",
      "INFO:tensorflow:global_step/sec: 7.88289\n",
      "INFO:tensorflow:loss = 0.09940787, step = 2301 (12.687 sec)\n",
      "INFO:tensorflow:global_step/sec: 9.16132\n",
      "INFO:tensorflow:loss = 0.06457013, step = 2401 (10.915 sec)\n",
      "INFO:tensorflow:global_step/sec: 9.23336\n",
      "INFO:tensorflow:loss = 0.041890427, step = 2501 (10.830 sec)\n",
      "INFO:tensorflow:global_step/sec: 8.61907\n",
      "INFO:tensorflow:loss = 0.05598654, step = 2601 (11.602 sec)\n",
      "INFO:tensorflow:global_step/sec: 9.08314\n",
      "INFO:tensorflow:loss = 0.04034442, step = 2701 (11.009 sec)\n",
      "INFO:tensorflow:global_step/sec: 8.84372\n",
      "INFO:tensorflow:loss = 0.104243495, step = 2801 (11.309 sec)\n",
      "INFO:tensorflow:global_step/sec: 8.40901\n",
      "INFO:tensorflow:loss = 0.05321198, step = 2901 (11.891 sec)\n",
      "INFO:tensorflow:global_step/sec: 8.84479\n",
      "INFO:tensorflow:loss = 0.04537903, step = 3001 (11.308 sec)\n",
      "INFO:tensorflow:global_step/sec: 9.26467\n",
      "INFO:tensorflow:loss = 0.06917955, step = 3101 (10.790 sec)\n",
      "INFO:tensorflow:global_step/sec: 9.13614\n",
      "INFO:tensorflow:loss = 0.048036154, step = 3201 (10.947 sec)\n",
      "INFO:tensorflow:global_step/sec: 8.82383\n",
      "INFO:tensorflow:loss = 0.1065394, step = 3301 (11.332 sec)\n",
      "INFO:tensorflow:global_step/sec: 9.16877\n",
      "INFO:tensorflow:loss = 0.04960208, step = 3401 (10.907 sec)\n",
      "INFO:tensorflow:global_step/sec: 9.27379\n",
      "INFO:tensorflow:loss = 0.06822958, step = 3501 (10.783 sec)\n",
      "INFO:tensorflow:global_step/sec: 9.13313\n",
      "INFO:tensorflow:loss = 0.035719465, step = 3601 (10.949 sec)\n",
      "INFO:tensorflow:global_step/sec: 8.95915\n",
      "INFO:tensorflow:loss = 0.020982366, step = 3701 (11.162 sec)\n",
      "INFO:tensorflow:global_step/sec: 8.48095\n",
      "INFO:tensorflow:loss = 0.0710068, step = 3801 (11.792 sec)\n",
      "INFO:tensorflow:global_step/sec: 8.98774\n",
      "INFO:tensorflow:loss = 0.029564133, step = 3901 (11.125 sec)\n",
      "INFO:tensorflow:Saving checkpoints for 4000 into ./Models/CNN-Paper\\model.ckpt.\n",
      "INFO:tensorflow:Loss for final step: 0.06598726.\n",
      "INFO:tensorflow:Calling model_fn.\n",
      "Parameter count: 53957\n",
      "INFO:tensorflow:Done calling model_fn.\n",
      "INFO:tensorflow:Starting evaluation at 2021-03-26T00:08:04Z\n",
      "INFO:tensorflow:Graph was finalized.\n",
      "WARNING:tensorflow:From D:\\Anaconda3\\lib\\site-packages\\tensorflow\\python\\training\\saver.py:1276: checkpoint_exists (from tensorflow.python.training.checkpoint_management) is deprecated and will be removed in a future version.\n",
      "Instructions for updating:\n",
      "Use standard file APIs to check for files with this prefix.\n",
      "INFO:tensorflow:Restoring parameters from ./Models/CNN-Paper\\model.ckpt-4000\n",
      "INFO:tensorflow:Running local_init_op.\n",
      "INFO:tensorflow:Done running local_init_op.\n"
     ]
    },
    {
     "name": "stdout",
     "output_type": "stream",
     "text": [
      "INFO:tensorflow:Finished evaluation at 2021-03-26-00:08:05\n",
      "INFO:tensorflow:Saving dict for global step 4000: accuracy = 0.952, global_step = 4000, loss = 0.21512417\n",
      "INFO:tensorflow:Saving 'checkpoint_path' summary for global step 4000: ./Models/CNN-Paper\\model.ckpt-4000\n"
     ]
    }
   ],
   "source": [
    "feature_columns = [tf.feature_column.numeric_column('time_series', [187])]\n",
    "\n",
    "estimator = tf.estimator.Estimator(\n",
    "    model_fn=classifier_fn,\n",
    "    model_dir=MODEL_DIR,\n",
    "    params={\n",
    "        'feature_columns': feature_columns,\n",
    "    })\n",
    "\n",
    "estimator.train(train_input_fn, steps=4000)\n",
    "info = estimator.evaluate(input_fn=eval_input_fn)"
   ]
  },
  {
   "cell_type": "markdown",
   "metadata": {},
   "source": [
    "### Compute metrics"
   ]
  },
  {
   "cell_type": "code",
   "execution_count": 8,
   "metadata": {},
   "outputs": [
    {
     "name": "stdout",
     "output_type": "stream",
     "text": [
      "INFO:tensorflow:Calling model_fn.\n",
      "Parameter count: 53957\n",
      "INFO:tensorflow:Done calling model_fn.\n",
      "INFO:tensorflow:Graph was finalized.\n",
      "INFO:tensorflow:Restoring parameters from ./Models/CNN-Paper\\model.ckpt-4000\n",
      "INFO:tensorflow:Running local_init_op.\n",
      "INFO:tensorflow:Done running local_init_op.\n",
      "              precision    recall  f1-score   support\n",
      "\n",
      "           0       0.90      0.99      0.94       100\n",
      "           1       0.97      0.95      0.96       100\n",
      "           2       0.91      0.97      0.94       100\n",
      "           3       1.00      0.87      0.93       100\n",
      "           4       1.00      0.98      0.99       100\n",
      "\n",
      "    accuracy                           0.95       500\n",
      "   macro avg       0.96      0.95      0.95       500\n",
      "weighted avg       0.96      0.95      0.95       500\n",
      "\n"
     ]
    },
    {
     "data": {
      "image/png": "[encoded data removed]",
      "text/plain": [
       "<Figure size 432x288 with 2 Axes>"
      ]
     },
     "metadata": {
      "needs_background": "light"
     },
     "output_type": "display_data"
    }
   ],
   "source": [
    "import sklearn.metrics as skm\n",
    "import seaborn\n",
    "\n",
    "dataset_fn = eval_input_fn\n",
    "\n",
    "predictions = estimator.predict(input_fn=dataset_fn)\n",
    "y_pred = []\n",
    "y_prob = []\n",
    "\n",
    "for i, value in enumerate(predictions):\n",
    "    class_id = value['class_ids']\n",
    "    y_pred.append(class_id)\n",
    "    probabilities = value['probabilities']\n",
    "    y_prob.append(probabilities[class_id])\n",
    "del predictions\n",
    "\n",
    "y_pred = np.array(y_pred)\n",
    "y_prob = np.array(y_prob)\n",
    "y_test = np.reshape(y_test, (len(y_test), 1))\n",
    "\n",
    "# Classification report\n",
    "report = skm.classification_report(y_test, y_pred)\n",
    "print(report)\n",
    "\n",
    "# Confusion matrix\n",
    "cm = skm.confusion_matrix(y_test, y_pred)\n",
    "seaborn.heatmap(cm, annot=True,annot_kws={\"size\": 16})\n",
    "\n",
    "y_prob_correct = y_prob[y_pred == y_test]\n",
    "y_prob_mis = y_prob[y_pred != y_test]"
   ]
  },
  {
   "cell_type": "markdown",
   "metadata": {},
   "source": [
    "### Check probability estimates"
   ]
  },
  {
   "cell_type": "code",
   "execution_count": 9,
   "metadata": {},
   "outputs": [
    {
     "data": {
      "image/png": "[encoded data removed]",
      "text/plain": [
       "<Figure size 432x288 with 1 Axes>"
      ]
     },
     "metadata": {
      "needs_background": "light"
     },
     "output_type": "display_data"
    },
    {
     "data": {
      "image/png": "[encoded data removed]",
      "text/plain": [
       "<Figure size 432x288 with 1 Axes>"
      ]
     },
     "metadata": {
      "needs_background": "light"
     },
     "output_type": "display_data"
    }
   ],
   "source": [
    "from astropy.stats import binom_conf_interval\n",
    "\n",
    "_, _, _ = plt.hist(y_prob, 10, (0, 1))\n",
    "plt.xlabel('Belief')\n",
    "plt.ylabel('Count')\n",
    "plt.title('All Predictions')\n",
    "plt.show();\n",
    "\n",
    "n_all, bins = np.histogram(y_prob, 10, (0, 1))\n",
    "n_correct, bins = np.histogram(y_prob_correct, 10, (0, 1))\n",
    "\n",
    "f_correct = n_correct / np.clip(n_all, 1, None)\n",
    "f_bins = 0.5 * (bins[:-1] + bins[1:])\n",
    "\n",
    "n_correct = n_correct[n_all > 0]\n",
    "n_total = n_all[n_all > 0]\n",
    "f_correct = n_correct / n_total\n",
    "f_bins = f_bins[n_all > 0]\n",
    "\n",
    "lower_bound, upper_bound = binom_conf_interval(n_correct, n_total)\n",
    "error_bars = np.array([f_correct - lower_bound, upper_bound - f_correct])\n",
    "\n",
    "plt.plot([0., 1.], [0., 1.])\n",
    "plt.errorbar(f_bins, f_correct, yerr=error_bars, fmt='o')\n",
    "plt.xlabel('Softmax Probability')\n",
    "plt.ylabel('Frequency')\n",
    "plt.title('Correct Predictions')\n",
    "plt.show();"
   ]
  },
  {
   "cell_type": "code",
   "execution_count": null,
   "metadata": {},
   "outputs": [],
   "source": []
  }
 ],
 "metadata": {
  "kernelspec": {
   "display_name": "Python 3",
   "language": "python",
   "name": "python3"
  },
  "language_info": {
   "codemirror_mode": {
    "name": "ipython",
    "version": 3
   },
   "file_extension": ".py",
   "mimetype": "text/x-python",
   "name": "python",
   "nbconvert_exporter": "python",
   "pygments_lexer": "ipython3",
   "version": "3.7.4"
  }
 },
 "nbformat": 4,
 "nbformat_minor": 2
}
